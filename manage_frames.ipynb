{
  "nbformat": 4,
  "nbformat_minor": 0,
  "metadata": {
    "colab": {
      "provenance": [],
      "authorship_tag": "ABX9TyNIjOEy2SqBAlMoabKRy3kR",
      "include_colab_link": true
    },
    "kernelspec": {
      "name": "python3",
      "display_name": "Python 3"
    },
    "language_info": {
      "name": "python"
    }
  },
  "cells": [
    {
      "cell_type": "markdown",
      "metadata": {
        "id": "view-in-github",
        "colab_type": "text"
      },
      "source": [
        "<a href=\"https://colab.research.google.com/github/AtogmatomaProgramming/Android-Expert/blob/main/manage_frames.ipynb\" target=\"_parent\"><img src=\"https://colab.research.google.com/assets/colab-badge.svg\" alt=\"Open In Colab\"/></a>"
      ]
    },
    {
      "cell_type": "code",
      "execution_count": null,
      "metadata": {
        "id": "4GnKevZsfyou"
      },
      "outputs": [],
      "source": [
        "#=== Importar librerías ===\n",
        "from google.colab import drive\n",
        "import os\n",
        "import cv2"
      ]
    },
    {
      "cell_type": "code",
      "source": [
        "#=== Montar drive ===\n",
        "drive.mount('/content/drive')"
      ],
      "metadata": {
        "colab": {
          "base_uri": "https://localhost:8080/"
        },
        "id": "6CoJjBzojjR9",
        "outputId": "7d7140e6-16a1-486c-c4af-473f7b6ecca7"
      },
      "execution_count": null,
      "outputs": [
        {
          "output_type": "stream",
          "name": "stdout",
          "text": [
            "Mounted at /content/drive\n"
          ]
        }
      ]
    },
    {
      "cell_type": "code",
      "source": [
        "#=== Rutas carpetas ===\n",
        "base_video_dir = \"/content/drive/My Drive/alpha_training/videos\"\n",
        "output_frame_dir = \"/content/drive/My Drive/alpha_training/frames\""
      ],
      "metadata": {
        "id": "cL6Jhurdjtvd"
      },
      "execution_count": null,
      "outputs": []
    },
    {
      "cell_type": "code",
      "source": [
        "#=== Extracción final de frames ===\n",
        "\n",
        "# Número de frames que quieres extraer por video\n",
        "total_frames_desired = 500\n",
        "\n",
        "# Función para crear una carpeta si no existe\n",
        "def create_folder_if_not_exists(folder_path):\n",
        "    if not os.path.exists(folder_path):\n",
        "        os.makedirs(folder_path)\n",
        "\n",
        "# Recorrer las carpetas de especies en la carpeta de videos\n",
        "for species in os.listdir(base_video_dir):\n",
        "    species_path = os.path.join(base_video_dir, species)\n",
        "    if os.path.isdir(species_path):  # Confirmar que es un directorio\n",
        "        # Crear una carpeta de salida para la especie en 'frames'\n",
        "        species_output_dir = os.path.join(output_frame_dir, species)\n",
        "        create_folder_if_not_exists(species_output_dir)\n",
        "\n",
        "        # Recorrer los videos en la carpeta de cada especie\n",
        "        for idx, video_file in enumerate(os.listdir(species_path)):\n",
        "            video_path = os.path.join(species_path, video_file)\n",
        "            video_code = f'v{idx + 1}'  # Identificar el video (v1, v2, etc.)\n",
        "\n",
        "            # Verificar si ya existen frames del video en la carpeta de la especie\n",
        "            existing_frames = [f for f in os.listdir(species_output_dir) if f.startswith(video_code)]\n",
        "            if existing_frames:\n",
        "                print(f\"Frames ya extraídos para {video_file}, ignorando...\")\n",
        "                continue\n",
        "\n",
        "            # Procesar el video y calcular el intervalo para 500 frames\n",
        "            cap = cv2.VideoCapture(video_path)\n",
        "            frame_count = int(cap.get(cv2.CAP_PROP_FRAME_COUNT))\n",
        "            interval = max(1, frame_count // total_frames_desired)  # Calcula el intervalo dinámico\n",
        "\n",
        "            # Extraer frames en intervalos calculados\n",
        "            current_frame = 0\n",
        "            saved_frames = 0\n",
        "            while cap.isOpened() and saved_frames < total_frames_desired:\n",
        "                ret, frame = cap.read()\n",
        "                if not ret:\n",
        "                    break\n",
        "                # Guardar frames en intervalos específicos\n",
        "                if current_frame % interval == 0:\n",
        "                    frame_name = os.path.join(species_output_dir, f'{video_code}_frame{current_frame}.jpg')\n",
        "                    cv2.imwrite(frame_name, frame)\n",
        "                    saved_frames += 1\n",
        "                current_frame += 1\n",
        "\n",
        "            cap.release()\n",
        "            print(f\"{saved_frames} frames extraídos de {video_file} y guardados en {species_output_dir}\")\n",
        "\n",
        "print(\"Extracción de frames completada.\")"
      ],
      "metadata": {
        "id": "R16t86UHoWZX"
      },
      "execution_count": null,
      "outputs": []
    }
  ]
}